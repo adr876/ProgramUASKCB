{
 "cells": [
  {
   "cell_type": "code",
   "execution_count": null,
   "id": "d0a9c411",
   "metadata": {},
   "outputs": [],
   "source": [
    "import numpy as np\n",
    "import skfuzzy as fuzz\n",
    "from skfuzzy import control as ctrl"
   ]
  },
  {
   "cell_type": "code",
   "execution_count": null,
   "id": "eb2aa559",
   "metadata": {},
   "outputs": [],
   "source": [
    "# Membuat variabel input\n",
    "magnitudo = ctrl.Antecedent(np.arange(0, 10.1, 0.1), 'magnitudo')\n",
    "kedalaman = ctrl.Antecedent(np.arange(0, 1001, 1), 'kedalaman')"
   ]
  },
  {
   "cell_type": "code",
   "execution_count": null,
   "id": "6d3434aa",
   "metadata": {},
   "outputs": [],
   "source": [
    "# Membuat variabel output\n",
    "keparahan = ctrl.Consequent(np.arange(0, 11, 1), 'keparahan')"
   ]
  },
  {
   "cell_type": "code",
   "execution_count": null,
   "id": "d8466ec8",
   "metadata": {},
   "outputs": [],
   "source": [
    "# Mendefinisikan fungsi keanggotaan untuk setiap variabel\n",
    "magnitudo['rendah'] = fuzz.trimf(magnitudo.universe, [0, 0, 4])\n",
    "magnitudo['sedang'] = fuzz.trimf(magnitudo.universe, [1, 5, 9])\n",
    "magnitudo['tinggi'] = fuzz.trimf(magnitudo.universe, [6, 10, 10])\n",
    "\n",
    "kedalaman['rendah'] = fuzz.trimf(kedalaman.universe, [0, 0, 300])\n",
    "kedalaman['sedang'] = fuzz.trimf(kedalaman.universe, [100, 500, 900])\n",
    "kedalaman['tinggi'] = fuzz.trimf(kedalaman.universe, [600, 1000, 1000])\n",
    "\n",
    "keparahan['ringan'] = fuzz.trimf(keparahan.universe, [0, 0, 5])\n",
    "keparahan['sedang'] = fuzz.trimf(keparahan.universe, [2, 5, 8])\n",
    "keparahan['berat'] = fuzz.trimf(keparahan.universe, [5, 10, 10])"
   ]
  },
  {
   "cell_type": "code",
   "execution_count": null,
   "id": "f8759c08",
   "metadata": {},
   "outputs": [],
   "source": [
    "# Membuat aturan fuzzy\n",
    "rule1 = ctrl.Rule(magnitudo['rendah'] & kedalaman['rendah'], keparahan['ringan'])\n",
    "rule2 = ctrl.Rule(magnitudo['rendah'] & kedalaman['sedang'], keparahan['ringan'])\n",
    "rule3 = ctrl.Rule(magnitudo['rendah'] & kedalaman['tinggi'], keparahan['sedang'])\n",
    "rule4 = ctrl.Rule(magnitudo['sedang'] & kedalaman['rendah'], keparahan['ringan'])\n",
    "rule5 = ctrl.Rule(magnitudo['sedang'] & kedalaman['sedang'], keparahan['sedang'])\n",
    "rule6 = ctrl.Rule(magnitudo['sedang'] & kedalaman['tinggi'], keparahan['sedang'])\n",
    "rule7 = ctrl.Rule(magnitudo['tinggi'] & kedalaman['rendah'], keparahan['sedang'])\n",
    "rule8 = ctrl.Rule(magnitudo['tinggi'] & kedalaman['sedang'], keparahan['berat'])\n",
    "rule9 = ctrl.Rule(magnitudo['tinggi'] & kedalaman['tinggi'], keparahan['berat'])"
   ]
  },
  {
   "cell_type": "code",
   "execution_count": null,
   "id": "e350856b",
   "metadata": {},
   "outputs": [],
   "source": [
    "# Membuat sistem kontrol fuzzy\n",
    "tsunami_ctrl = ctrl.ControlSystem([rule1, rule2, rule3, rule4, rule5, rule6, rule7, rule8, rule9])\n",
    "tsunami_sim = ctrl.ControlSystemSimulation(tsunami_ctrl)"
   ]
  },
  {
   "cell_type": "code",
   "execution_count": null,
   "id": "b53c9010",
   "metadata": {},
   "outputs": [],
   "source": [
    "# Input dari pengguna\n",
    "magnitudo_input = float(input(\"Masukkan magnitudo gempa (0-10): 4\"))\n",
    "kedalaman_input = float(input(\"Masukkan kedalaman air 1(meter): 100\"))"
   ]
  },
  {
   "cell_type": "code",
   "execution_count": null,
   "id": "9bd43370",
   "metadata": {},
   "outputs": [],
   "source": [
    "# Menetapkan input pada sistem kontrol fuzzy\n",
    "tsunami_sim.input['magnitudo'] = magnitudo_input\n",
    "tsunami_sim.input['kedalaman'] = kedalaman_input"
   ]
  },
  {
   "cell_type": "code",
   "execution_count": null,
   "id": "67ad4ad5",
   "metadata": {},
   "outputs": [],
   "source": [
    "# Melakukan perhitungan sistem kontrol fuzzy\n",
    "tsunami_sim.compute()"
   ]
  },
  {
   "cell_type": "code",
   "execution_count": null,
   "id": "5ae32f2c",
   "metadata": {},
   "outputs": [],
   "source": [
    "# Menampilkan hasil output\n",
    "t_parah = tsunami_sim.output['keparahan']\n",
    "print(\"Tingkat keparahan tsunami: \",t_parah )"
   ]
  },
  {
   "cell_type": "code",
   "execution_count": null,
   "id": "8f63d6a6",
   "metadata": {},
   "outputs": [],
   "source": [
    "# Menampilkan kurva keanggotaan untuk variabel output\n",
    "keparahan.view(sim=tsunami_sim)"
   ]
  },
  {
   "cell_type": "code",
   "execution_count": null,
   "id": "f8ba977d",
   "metadata": {},
   "outputs": [],
   "source": [
    "# Menggunakan if-else untuk menentukan tingkat keparahan berdasarkan input\n",
    "if t_parah <= 3:\n",
    "        tingkat_keparahan = \"Ringan\"\n",
    "elif t_parah <=6:\n",
    "        tingkat_keparahan = \"Sedang\"\n",
    "else:\n",
    "        tingkat_keparahan = \"Berat\""
   ]
  },
  {
   "cell_type": "code",
   "execution_count": null,
   "id": "d192122a",
   "metadata": {},
   "outputs": [],
   "source": [
    "# Menampilkan hasil\n",
    "print(\"Tingkat keparahan tsunami: \", tingkat_keparahan)"
   ]
  },
  {
   "cell_type": "code",
   "execution_count": null,
   "id": "32126ae4",
   "metadata": {},
   "outputs": [],
   "source": []
  }
 ],
 "metadata": {
  "kernelspec": {
   "display_name": "Python 3 (ipykernel)",
   "language": "python",
   "name": "python3"
  },
  "language_info": {
   "codemirror_mode": {
    "name": "ipython",
    "version": 3
   },
   "file_extension": ".py",
   "mimetype": "text/x-python",
   "name": "python",
   "nbconvert_exporter": "python",
   "pygments_lexer": "ipython3",
   "version": "3.11.2"
  }
 },
 "nbformat": 4,
 "nbformat_minor": 5
}
